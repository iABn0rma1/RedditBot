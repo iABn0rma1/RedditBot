{
 "cells": [
  {
   "cell_type": "code",
   "execution_count": 2,
   "metadata": {},
   "outputs": [
    {
     "name": "stdout",
     "output_type": "stream",
     "text": [
      "Python 3.12.6\n"
     ]
    }
   ],
   "source": [
    "!python3 --version"
   ]
  },
  {
   "cell_type": "code",
   "execution_count": 1,
   "metadata": {},
   "outputs": [],
   "source": [
    "!python3 -m venv .venv # create virtual environment"
   ]
  },
  {
   "cell_type": "code",
   "execution_count": 4,
   "metadata": {},
   "outputs": [],
   "source": [
    "%mv .env.example .env # update the variables in the .env file"
   ]
  },
  {
   "cell_type": "code",
   "execution_count": null,
   "metadata": {},
   "outputs": [],
   "source": [
    "!pip install --upgrade pip # upgrade pip"
   ]
  },
  {
   "cell_type": "code",
   "execution_count": null,
   "metadata": {},
   "outputs": [],
   "source": [
    "!pip install praw groq python-dotenv schedule nltk # install the required packages"
   ]
  },
  {
   "cell_type": "code",
   "execution_count": null,
   "metadata": {},
   "outputs": [],
   "source": [
    "!python app.py # run the app, with default settings (posts every hour)"
   ]
  },
  {
   "cell_type": "code",
   "execution_count": null,
   "metadata": {},
   "outputs": [],
   "source": [
    "!python app.py -t 00:00 # run daily at midnight"
   ]
  },
  {
   "cell_type": "code",
   "execution_count": null,
   "metadata": {},
   "outputs": [
    {
     "name": "stdout",
     "output_type": "stream",
     "text": [
      "2025-01-19 00:55:18,863 - WARNING - titles.json not found, starting fresh\n",
      "2025-01-19 00:55:18,864 - INFO - Saved 0 2-grams\n",
      "2025-01-19 00:55:18,864 - INFO - Bot initialized successfully\n",
      "2025-01-19 00:55:18,865 - INFO - Scheduled post at 00:00\n",
      "2025-01-19 00:55:18,865 - INFO - Scheduled post at 00:15\n",
      "2025-01-19 00:55:18,865 - INFO - Scheduled post at 00:30\n",
      "2025-01-19 00:55:18,865 - INFO - Scheduled post at 00:45\n",
      "2025-01-19 00:55:18,865 - INFO - Scheduled post at 01:00\n",
      "2025-01-19 00:55:18,865 - INFO - Scheduled post at 01:15\n",
      "2025-01-19 00:55:18,865 - INFO - Scheduled post at 01:30\n",
      "2025-01-19 00:55:18,865 - INFO - Scheduled post at 01:45\n",
      "2025-01-19 00:55:18,865 - INFO - Scheduled post at 02:00\n",
      "2025-01-19 00:55:18,865 - INFO - Scheduled post at 02:15\n",
      "2025-01-19 00:55:18,865 - INFO - Scheduled post at 02:30\n",
      "2025-01-19 00:55:18,865 - INFO - Scheduled post at 02:45\n",
      "2025-01-19 00:55:18,865 - INFO - Scheduled post at 03:00\n",
      "2025-01-19 00:55:18,865 - INFO - Scheduled post at 03:15\n",
      "2025-01-19 00:55:18,865 - INFO - Scheduled post at 03:30\n",
      "2025-01-19 00:55:18,865 - INFO - Scheduled post at 03:45\n",
      "2025-01-19 00:55:18,865 - INFO - Scheduled post at 04:00\n",
      "2025-01-19 00:55:18,865 - INFO - Scheduled post at 04:15\n",
      "2025-01-19 00:55:18,866 - INFO - Scheduled post at 04:30\n",
      "2025-01-19 00:55:18,866 - INFO - Scheduled post at 04:45\n",
      "2025-01-19 00:55:18,866 - INFO - Scheduled post at 05:00\n",
      "2025-01-19 00:55:18,866 - INFO - Scheduled post at 05:15\n",
      "2025-01-19 00:55:18,866 - INFO - Scheduled post at 05:30\n",
      "2025-01-19 00:55:18,866 - INFO - Scheduled post at 05:45\n",
      "2025-01-19 00:55:18,866 - INFO - Scheduled post at 06:00\n",
      "2025-01-19 00:55:18,866 - INFO - Scheduled post at 06:15\n",
      "2025-01-19 00:55:18,866 - INFO - Scheduled post at 06:30\n",
      "2025-01-19 00:55:18,866 - INFO - Scheduled post at 06:45\n",
      "2025-01-19 00:55:18,866 - INFO - Scheduled post at 07:00\n",
      "2025-01-19 00:55:18,866 - INFO - Scheduled post at 07:15\n",
      "2025-01-19 00:55:18,866 - INFO - Scheduled post at 07:30\n",
      "2025-01-19 00:55:18,866 - INFO - Scheduled post at 07:45\n",
      "2025-01-19 00:55:18,866 - INFO - Scheduled post at 08:00\n",
      "2025-01-19 00:55:18,866 - INFO - Scheduled post at 08:15\n",
      "2025-01-19 00:55:18,866 - INFO - Scheduled post at 08:30\n",
      "2025-01-19 00:55:18,866 - INFO - Scheduled post at 08:45\n",
      "2025-01-19 00:55:18,866 - INFO - Scheduled post at 09:00\n",
      "2025-01-19 00:55:18,866 - INFO - Scheduled post at 09:15\n",
      "2025-01-19 00:55:18,866 - INFO - Scheduled post at 09:30\n",
      "2025-01-19 00:55:18,866 - INFO - Scheduled post at 09:45\n",
      "2025-01-19 00:55:18,866 - INFO - Scheduled post at 10:00\n",
      "2025-01-19 00:55:18,866 - INFO - Scheduled post at 10:15\n",
      "2025-01-19 00:55:18,866 - INFO - Scheduled post at 10:30\n",
      "2025-01-19 00:55:18,866 - INFO - Scheduled post at 10:45\n",
      "2025-01-19 00:55:18,866 - INFO - Scheduled post at 11:00\n",
      "2025-01-19 00:55:18,866 - INFO - Scheduled post at 11:15\n",
      "2025-01-19 00:55:18,866 - INFO - Scheduled post at 11:30\n",
      "2025-01-19 00:55:18,866 - INFO - Scheduled post at 11:45\n",
      "2025-01-19 00:55:18,866 - INFO - Scheduled post at 12:00\n",
      "2025-01-19 00:55:18,866 - INFO - Scheduled post at 12:15\n",
      "2025-01-19 00:55:18,866 - INFO - Scheduled post at 12:30\n",
      "2025-01-19 00:55:18,866 - INFO - Scheduled post at 12:45\n",
      "2025-01-19 00:55:18,866 - INFO - Scheduled post at 13:00\n",
      "2025-01-19 00:55:18,867 - INFO - Scheduled post at 13:15\n",
      "2025-01-19 00:55:18,867 - INFO - Scheduled post at 13:30\n",
      "2025-01-19 00:55:18,867 - INFO - Scheduled post at 13:45\n",
      "2025-01-19 00:55:18,867 - INFO - Scheduled post at 14:00\n",
      "2025-01-19 00:55:18,867 - INFO - Scheduled post at 14:15\n",
      "2025-01-19 00:55:18,867 - INFO - Scheduled post at 14:30\n",
      "2025-01-19 00:55:18,867 - INFO - Scheduled post at 14:45\n",
      "2025-01-19 00:55:18,867 - INFO - Scheduled post at 15:00\n",
      "2025-01-19 00:55:18,867 - INFO - Scheduled post at 15:15\n",
      "2025-01-19 00:55:18,867 - INFO - Scheduled post at 15:30\n",
      "2025-01-19 00:55:18,867 - INFO - Scheduled post at 15:45\n",
      "2025-01-19 00:55:18,867 - INFO - Scheduled post at 16:00\n",
      "2025-01-19 00:55:18,867 - INFO - Scheduled post at 16:15\n",
      "2025-01-19 00:55:18,867 - INFO - Scheduled post at 16:30\n",
      "2025-01-19 00:55:18,867 - INFO - Scheduled post at 16:45\n",
      "2025-01-19 00:55:18,867 - INFO - Scheduled post at 17:00\n",
      "2025-01-19 00:55:18,867 - INFO - Scheduled post at 17:15\n",
      "2025-01-19 00:55:18,867 - INFO - Scheduled post at 17:30\n",
      "2025-01-19 00:55:18,867 - INFO - Scheduled post at 17:45\n",
      "2025-01-19 00:55:18,867 - INFO - Scheduled post at 18:00\n",
      "2025-01-19 00:55:18,867 - INFO - Scheduled post at 18:15\n",
      "2025-01-19 00:55:18,867 - INFO - Scheduled post at 18:30\n",
      "2025-01-19 00:55:18,867 - INFO - Scheduled post at 18:45\n",
      "2025-01-19 00:55:18,867 - INFO - Scheduled post at 19:00\n",
      "2025-01-19 00:55:18,867 - INFO - Scheduled post at 19:15\n",
      "2025-01-19 00:55:18,867 - INFO - Scheduled post at 19:30\n",
      "2025-01-19 00:55:18,867 - INFO - Scheduled post at 19:45\n",
      "2025-01-19 00:55:18,867 - INFO - Scheduled post at 20:00\n",
      "2025-01-19 00:55:18,867 - INFO - Scheduled post at 20:15\n",
      "2025-01-19 00:55:18,867 - INFO - Scheduled post at 20:30\n",
      "2025-01-19 00:55:18,868 - INFO - Scheduled post at 20:45\n",
      "2025-01-19 00:55:18,868 - INFO - Scheduled post at 21:00\n",
      "2025-01-19 00:55:18,868 - INFO - Scheduled post at 21:15\n",
      "2025-01-19 00:55:18,868 - INFO - Scheduled post at 21:30\n",
      "2025-01-19 00:55:18,868 - INFO - Scheduled post at 21:45\n",
      "2025-01-19 00:55:18,868 - INFO - Scheduled post at 22:00\n",
      "2025-01-19 00:55:18,868 - INFO - Scheduled post at 22:15\n",
      "2025-01-19 00:55:18,868 - INFO - Scheduled post at 22:30\n",
      "2025-01-19 00:55:18,868 - INFO - Scheduled post at 22:45\n",
      "2025-01-19 00:55:18,868 - INFO - Scheduled post at 23:00\n",
      "2025-01-19 00:55:18,868 - INFO - Scheduled post at 23:15\n",
      "2025-01-19 00:55:18,868 - INFO - Scheduled post at 23:30\n",
      "2025-01-19 00:55:18,868 - INFO - Scheduled post at 23:45\n",
      "2025-01-19 00:55:18,868 - INFO - Bot started, running scheduled tasks...\n",
      "2025-01-19 01:00:21,101 - INFO - HTTP Request: POST https://api.groq.com/openai/v1/chat/completions \"HTTP/1.1 200 OK\"\n",
      "2025-01-19 01:00:21,114 - INFO - Saved 9 2-grams\n",
      "2025-01-19 01:00:21,114 - INFO - Generated unique content: \"Unveiling the Mysterious World of \"Fast Radio Bursts\": Unraveling the Enigma of Cosmic Lighthouses\"\n",
      "2025-01-19 01:00:28,066 - INFO - Successfully created post: https://www.reddit.com/r/ScientificFactsByAI/comments/1i4faib/unveiling_the_mysterious_world_of_fast_radio/\n"
     ]
    }
   ],
   "source": [
    "# run every 15 minutes\n",
    "!python app.py -t 00:00 00:15 00:30 00:45 01:00 01:15 01:30 01:45 02:00 02:15 02:30 02:45 03:00 03:15 03:30 03:45 04:00 04:15 04:30 04:45 05:00 05:15 05:30 05:45 06:00 06:15 06:30 06:45 07:00 07:15 07:30 07:45 08:00 08:15 08:30 08:45 09:00 09:15 09:30 09:45 10:00 10:15 10:30 10:45 11:00 11:15 11:30 11:45 12:00 12:15 12:30 12:45 13:00 13:15 13:30 13:45 14:00 14:15 14:30 14:45 15:00 15:15 15:30 15:45 16:00 16:15 16:30 16:45 17:00 17:15 17:30 17:45 18:00 18:15 18:30 18:45 19:00 19:15 19:30 19:45 20:00 20:15 20:30 20:45 21:00 21:15 21:30 21:45 22:00 22:15 22:30 22:45 23:00 23:15 23:30 23:45"
   ]
  }
 ],
 "metadata": {
  "kernelspec": {
   "display_name": ".venv",
   "language": "python",
   "name": "python3"
  },
  "language_info": {
   "codemirror_mode": {
    "name": "ipython",
    "version": 3
   },
   "file_extension": ".py",
   "mimetype": "text/x-python",
   "name": "python",
   "nbconvert_exporter": "python",
   "pygments_lexer": "ipython3",
   "version": "3.12.6"
  }
 },
 "nbformat": 4,
 "nbformat_minor": 2
}
